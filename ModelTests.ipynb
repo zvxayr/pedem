{
 "cells": [
  {
   "cell_type": "code",
   "execution_count": 1,
   "id": "dcd6a5b0",
   "metadata": {},
   "outputs": [],
   "source": [
    "from pickle import dump\n",
    "\n",
    "import numpy as np\n",
    "import pandas as pd\n",
    "from scipy.stats import ttest_1samp\n",
    "from sklearn.linear_model import LinearRegression\n",
    "from sklearn.model_selection import train_test_split\n",
    "\n",
    "import config\n",
    "\n",
    "data = pd.read_csv(config.output_csv)"
   ]
  },
  {
   "cell_type": "code",
   "execution_count": 2,
   "id": "8477e13f",
   "metadata": {},
   "outputs": [
    {
     "name": "stdout",
     "output_type": "stream",
     "text": [
      "     r2: 0.9746496496225092\n",
      "      m: [0.07110923]\n",
      "      b: [-2.65469186]\n"
     ]
    },
    {
     "data": {
      "text/plain": [
       "Ttest_1sampResult(statistic=array([-9.32240826]), pvalue=array([3.16320002e-10]))"
      ]
     },
     "execution_count": 2,
     "metadata": {},
     "output_type": "execute_result"
    }
   ],
   "source": [
    "# model 1\n",
    "\n",
    "X = data[['h_px']].values.reshape(-1, 1)\n",
    "Y = data['cm'].values.reshape(-1, 1)\n",
    "\n",
    "x_train, x_test, y_train, y_test = train_test_split(\n",
    "    X, Y, test_size=0.5, random_state=42)\n",
    "\n",
    "reg = LinearRegression().fit(x_train, y_train)\n",
    "\n",
    "print(f'     r2: {reg.score(x_test, y_test)}')\n",
    "print(f'      m: {reg.coef_[0]}')\n",
    "print(f'      b: {reg.intercept_}')\n",
    "\n",
    "ttest_1samp(np.abs(reg.predict(X) - Y), 1)"
   ]
  },
  {
   "cell_type": "code",
   "execution_count": 3,
   "id": "e0569fb4",
   "metadata": {},
   "outputs": [
    {
     "name": "stdout",
     "output_type": "stream",
     "text": [
      "     r2: 0.9626958076021519\n",
      "      m: [0.06247558 0.01922698]\n",
      "      b: [-2.36993031]\n"
     ]
    },
    {
     "data": {
      "text/plain": [
       "Ttest_1sampResult(statistic=array([-8.3141958]), pvalue=array([3.6414767e-09]))"
      ]
     },
     "execution_count": 3,
     "metadata": {},
     "output_type": "execute_result"
    }
   ],
   "source": [
    "# model 2\n",
    "\n",
    "X = data[['h_px', 'w_px']].values.reshape(-1, 2)\n",
    "Y = data['cm'].values.reshape(-1, 1)\n",
    "\n",
    "x_train, x_test, y_train, y_test = train_test_split(\n",
    "    X, Y, test_size=0.5, random_state=42)\n",
    "\n",
    "reg = LinearRegression().fit(x_train, y_train)\n",
    "\n",
    "print(f'     r2: {reg.score(x_test, y_test)}')\n",
    "print(f'      m: {reg.coef_[0]}')\n",
    "print(f'      b: {reg.intercept_}')\n",
    "\n",
    "ttest_1samp(np.abs(reg.predict(X) - Y), 1)"
   ]
  },
  {
   "cell_type": "code",
   "execution_count": 4,
   "id": "79272dc3",
   "metadata": {},
   "outputs": [
    {
     "name": "stdout",
     "output_type": "stream",
     "text": [
      "     r2: 0.9677194649848938\n",
      "      m: [0.00410402 0.00239091]\n",
      "      b: [-56.21928622]\n"
     ]
    },
    {
     "data": {
      "text/plain": [
       "Ttest_1sampResult(statistic=array([-8.95296173]), pvalue=array([7.62472452e-10]))"
      ]
     },
     "execution_count": 4,
     "metadata": {},
     "output_type": "execute_result"
    }
   ],
   "source": [
    "# model 3\n",
    "\n",
    "X = data[['h_px', 'w_px']].values.reshape(-1, 2) ** 2\n",
    "Y = data['cm'].values.reshape(-1, 1) ** 2\n",
    "\n",
    "x_train, x_test, y_train, y_test = train_test_split(\n",
    "    X, Y, test_size=0.5, random_state=42)\n",
    "\n",
    "reg = LinearRegression().fit(x_train, y_train)\n",
    "\n",
    "print(f'     r2: {reg.score(x_test, y_test)}')\n",
    "print(f'      m: {reg.coef_[0]}')\n",
    "print(f'      b: {reg.intercept_}')\n",
    "\n",
    "ttest_1samp(np.abs(np.sqrt(reg.predict(X)) - np.sqrt(Y)), 1)"
   ]
  }
 ],
 "metadata": {
  "kernelspec": {
   "display_name": "Python 3 (ipykernel)",
   "language": "python",
   "name": "python3"
  },
  "language_info": {
   "codemirror_mode": {
    "name": "ipython",
    "version": 3
   },
   "file_extension": ".py",
   "mimetype": "text/x-python",
   "name": "python",
   "nbconvert_exporter": "python",
   "pygments_lexer": "ipython3",
   "version": "3.10.4"
  }
 },
 "nbformat": 4,
 "nbformat_minor": 5
}
